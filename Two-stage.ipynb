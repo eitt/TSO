{
 "cells": [
  {
   "cell_type": "markdown",
   "metadata": {},
   "source": [
    "# A two stage optimziation problem generator"
   ]
  },
  {
   "cell_type": "code",
   "execution_count": 1,
   "metadata": {},
   "outputs": [],
   "source": [
    "scenario_data = {\n",
    "    \"T\": range(1, 6),  # Time periods 1 to 5\n",
    "    \"scenarios\": {\n",
    "        \"scenario1\": {\n",
    "            \"probability\": 0.3,\n",
    "            \"parameters\": {\n",
    "                \"W\": {1: 10, 2: 15, 3: 20, 4: 25, 5: 30},\n",
    "                \"DR\": {0: 5, 1: 5, 2: 6, 3: 7, 4: 8},\n",
    "                \"P\": {1: 3, 2: 3, 3: 4, 4: 4, 5: 5},\n",
    "                \"CR\": {1: 2, 2: 2, 3: 2, 4: 3, 5: 3},\n",
    "                \"ETc\": {1: 1, 2: 1, 3: 1, 4: 2, 5: 2},\n",
    "                \"DP\": {1: 1, 2: 1, 3: 2, 4: 2, 5: 3},\n",
    "            },\n",
    "        },\n",
    "        \"scenario2\": {\n",
    "            \"probability\": 0.7,\n",
    "            \"parameters\": {\n",
    "                \"W\": {1: 12, 2: 18, 3: 22, 4: 28, 5: 32},\n",
    "                \"DR\": {0: 6, 1: 7, 2: 7, 3: 8, 4: 9},\n",
    "                \"P\": {1: 4, 2: 4, 3: 5, 4: 5, 5: 6},\n",
    "                \"CR\": {1: 3, 2: 3, 3: 3, 4: 4, 5: 4},\n",
    "                \"ETc\": {1: 2, 2: 2, 3: 2, 4: 3, 5: 3},\n",
    "                \"DP\": {1: 2, 2: 2, 3: 3, 4: 3, 5: 4},\n",
    "            },\n",
    "        },\n",
    "        # More scenarios can be added similarly\n",
    "    }\n",
    "}\n",
    "\n",
    "# The fixed parameter 'i' for the time step difference between stages\n",
    "i = 1  # For example, a one time period lag between stages\n"
   ]
  },
  {
   "cell_type": "code",
   "execution_count": 2,
   "metadata": {},
   "outputs": [
    {
     "name": "stdout",
     "output_type": "stream",
     "text": [
      "Requirement already satisfied: pyomo in /usr/local/python/3.10.8/lib/python3.10/site-packages (6.7.0)\n",
      "Requirement already satisfied: ply in /usr/local/python/3.10.8/lib/python3.10/site-packages (from pyomo) (3.11)\n",
      "\n",
      "\u001b[1m[\u001b[0m\u001b[34;49mnotice\u001b[0m\u001b[1;39;49m]\u001b[0m\u001b[39;49m A new release of pip is available: \u001b[0m\u001b[31;49m23.3.1\u001b[0m\u001b[39;49m -> \u001b[0m\u001b[32;49m23.3.2\u001b[0m\n",
      "\u001b[1m[\u001b[0m\u001b[34;49mnotice\u001b[0m\u001b[1;39;49m]\u001b[0m\u001b[39;49m To update, run: \u001b[0m\u001b[32;49mpython -m pip install --upgrade pip\u001b[0m\n",
      "Requirement already satisfied: swiglpk in /usr/local/python/3.10.8/lib/python3.10/site-packages (5.0.10)\n",
      "\n",
      "\u001b[1m[\u001b[0m\u001b[34;49mnotice\u001b[0m\u001b[1;39;49m]\u001b[0m\u001b[39;49m A new release of pip is available: \u001b[0m\u001b[31;49m23.3.1\u001b[0m\u001b[39;49m -> \u001b[0m\u001b[32;49m23.3.2\u001b[0m\n",
      "\u001b[1m[\u001b[0m\u001b[34;49mnotice\u001b[0m\u001b[1;39;49m]\u001b[0m\u001b[39;49m To update, run: \u001b[0m\u001b[32;49mpython -m pip install --upgrade pip\u001b[0m\n"
     ]
    }
   ],
   "source": [
    "!pip install pyomo\n",
    "!pip install swiglpk\n"
   ]
  },
  {
   "cell_type": "code",
   "execution_count": 5,
   "metadata": {},
   "outputs": [
    {
     "name": "stdout",
     "output_type": "stream",
     "text": [
      "Irrigation: {1: {'scenario1': None, 'scenario2': None}, 2: {'scenario1': None, 'scenario2': None}, 3: {'scenario1': None, 'scenario2': None}, 4: {'scenario1': None, 'scenario2': None}}\n",
      "Drainage: {1: {'scenario1': None, 'scenario2': None}, 2: {'scenario1': None, 'scenario2': None}, 3: {'scenario1': None, 'scenario2': None}, 4: {'scenario1': None, 'scenario2': None}}\n"
     ]
    }
   ],
   "source": [
    "from pyomo.environ import ConcreteModel, Var, Objective, Constraint, ConstraintList, NonNegativeReals, maximize, SolverFactory\n",
    "\n",
    "from pyomo.opt import SolverFactory\n",
    "\n",
    "# Sample scenario data\n",
    "scenario_data = {\n",
    "    \"T\": range(1, 6),  # Time periods 1 to 5\n",
    "    \"scenarios\": {\n",
    "        \"scenario1\": {\n",
    "            \"probability\": 0.3,\n",
    "            \"parameters\": {\n",
    "                \"W\": {1: 10, 2: 15, 3: 20, 4: 25, 5: 30},\n",
    "                \"DR\": {0: 5, 1: 5, 2: 6, 3: 7, 4: 8},\n",
    "                \"P\": {1: 3, 2: 3, 3: 4, 4: 4, 5: 5},\n",
    "                \"CR\": {1: 2, 2: 2, 3: 2, 4: 3, 5: 3},\n",
    "                \"ETc\": {1: 1, 2: 1, 3: 1, 4: 2, 5: 2},\n",
    "                \"DP\": {1: 1, 2: 1, 3: 2, 4: 2, 5: 3},\n",
    "            },\n",
    "        },\n",
    "        \"scenario2\": {\n",
    "            \"probability\": 0.7,\n",
    "            \"parameters\": {\n",
    "                \"W\": {1: 12, 2: 18, 3: 22, 4: 28, 5: 32},\n",
    "                \"DR\": {0: 6, 1: 7, 2: 7, 3: 8, 4: 9},\n",
    "                \"P\": {1: 4, 2: 4, 3: 5, 4: 5, 5: 6},\n",
    "                \"CR\": {1: 3, 2: 3, 3: 3, 4: 4, 5: 4},\n",
    "                \"ETc\": {1: 2, 2: 2, 3: 2, 4: 3, 5: 3},\n",
    "                \"DP\": {1: 2, 2: 2, 3: 3, 4: 3, 5: 4},\n",
    "            },\n",
    "        },\n",
    "        # Additional scenarios can be added here\n",
    "    }\n",
    "}\n",
    "\n",
    "i = 1  # The fixed parameter 'i' for the time step difference between stages\n",
    "\n",
    "T = scenario_data[\"T\"]\n",
    "S = list(scenario_data[\"scenarios\"].keys())\n",
    "\n",
    "# Create a ConcreteModel instance\n",
    "model = ConcreteModel()\n",
    "\n",
    "# Define decision variables\n",
    "model.I = Var(T, S, within=NonNegativeReals)  # Irrigation\n",
    "model.D = Var(T, S, within=NonNegativeReals)  # Drainage\n",
    "\n",
    "# Objective function\n",
    "def objective_rule(model):\n",
    "    return sum(scenario_data[\"scenarios\"][s][\"probability\"] * model.I[t+i, s] for s in S for t in T if t+i in T)\n",
    "model.obj = Objective(rule=objective_rule, sense=maximize)\n",
    "\n",
    "# Constraints\n",
    "model.constraints = ConstraintList()\n",
    "\n",
    "# Adding water balance constraints for both stages\n",
    "for t in T:\n",
    "    for s in S:\n",
    "        params = scenario_data[\"scenarios\"][s][\"parameters\"]\n",
    "\n",
    "        # Constraint for stage 1\n",
    "        if t-1 in T:  # Check if t-1 is within the range of T\n",
    "            model.constraints.add(params[\"W\"][t-1] + params[\"P\"][t] + model.I[t, s] + params[\"CR\"][t] - (model.D[t, s] + params[\"DR\"][t-1] + params[\"ETc\"][t] + params[\"DP\"][t]) == params[\"W\"][t])\n",
    "\n",
    "        # Constraint for stage 2\n",
    "        if t+i in T:  # Ensure t+i is within the range of T\n",
    "            model.constraints.add(params[\"W\"][t+i-1] + params[\"P\"][t+i] + model.I[t+i, s] + params[\"CR\"][t+i] - (model.D[t+i, s] + params[\"DR\"][t+i-1] + params[\"ETc\"][t+i] + params[\"DP\"][t+i]) == params[\"W\"][t+i])\n",
    "\n",
    "def probability_sum_rule(model):\n",
    "    tolerance = 1e-5\n",
    "    prob_sum = sum(scenario_data[\"scenarios\"][s][\"probability\"] for s in S)\n",
    "    return inequality(1-tolerance, prob_sum, 1+tolerance)\n",
    "model.probability_sum_constraint = Constraint(rule=probability_sum_rule)\n",
    "\n",
    "# Solve the model\n",
    "solver = SolverFactory('glpk')\n",
    "solver.solve(model)\n",
    "\n",
    "# Access the solution\n",
    "solution_I = {t: {s: model.I[t, s].value for s in S if t+i in T} for t in T if t+i in T}\n",
    "solution_D = {t: {s: model.D[t, s].value for s in S if t+i in T} for t in T if t+i in T}\n",
    "\n",
    "# Print the solution\n",
    "print(\"Irrigation:\", solution_I)\n",
    "print(\"Drainage:\", solution_D)\n"
   ]
  },
  {
   "cell_type": "code",
   "execution_count": null,
   "metadata": {},
   "outputs": [],
   "source": []
  }
 ],
 "metadata": {
  "kernelspec": {
   "display_name": "Python 3",
   "language": "python",
   "name": "python3"
  },
  "language_info": {
   "codemirror_mode": {
    "name": "ipython",
    "version": 3
   },
   "file_extension": ".py",
   "mimetype": "text/x-python",
   "name": "python",
   "nbconvert_exporter": "python",
   "pygments_lexer": "ipython3",
   "version": "3.10.8"
  }
 },
 "nbformat": 4,
 "nbformat_minor": 2
}
