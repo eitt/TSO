{
 "cells": [
  {
   "cell_type": "markdown",
   "metadata": {},
   "source": [
    "# Irrigation Cost\n",
    "This function is designed to calculate the total cost of irrigating a piece of land. It requires inputs like the cost of water, the amount of water needed, the cost for watering a hectare, and the efficiency of water usage. The function ensures these inputs are within a realistic range, calculates the actual amount of water required based on efficiency, and finally, it computes the total cost by adding the water cost to the cost per hectare.\n",
    "\n",
    "**Total Irrigation Cost (TIC) is calculated as follows**:\n",
    "\n",
    "$$ TIC = \\left( \\frac{WaterCostPer1000m^3}{1000} \\times \\frac{NeededWaterL}{EfficiencyRate} \\right) + CostPerHectare $$\n",
    "\n",
    "Where:\n",
    "- $ WaterCostPer1000m^3 $ is the cost for 1,000 cubic meters of water in USD (Range: 1.3 to 17.5 USD).\n",
    "- $ NeededWaterL $ is the amount of water needed in liters.\n",
    "- $ EfficiencyRate $ is the efficiency rate of water usage in percentage (expressed as a decimal, Range: 0.67 to 0.95).\n",
    "- $ CostPerHectare $ is the cost per hectare in USD (Range: 12.6 to 65.7 USD).\n",
    "\n",
    "## **Inputs:**\n",
    "1. **`water_cost_per_1000m3` (float):** Cost for 1,000 cubic meters of water in USD, ranging from 1.3 to 17.5.\n",
    "2. **`needed_water_l` (float):** Amount of water needed in liters.\n",
    "3. **`cost_per_hectare` (float):** Cost per hectare in USD, ranging from 12.6 to 65.7.\n",
    "4. **`efficiency_rate` (float):** Efficiency rate of water usage in percentage, ranging from 67 to 95.\n",
    "\n",
    "## **Outputs:**\n",
    "- **Total cost of irrigation in USD (float).**\n",
    "\n",
    "## **Subproblems:**\n",
    "1. **Validation of Input Ranges:** Ensure inputs are within specified boundaries.\n",
    "2. **Conversion of Water Requirement:** Convert water from liters to cubic meters.\n",
    "3. **Calculation of Total Water Required:** Consider the efficiency rate.\n",
    "4. **Cost for Water Usage:** Compute the monetary cost of the required water.\n",
    "5. **Total Cost Calculation:** Combine water cost with cost per hectare.\n",
    "\n",
    "## **Algorithm:**\n",
    "1. **Check Input Ranges:** Validates that the input values are within their specified ranges; raises a `ValueError` if not.\n",
    "2. **Convert Water Requirement:** Converts the needed water from liters to cubic meters.\n",
    "3. **Total Water Requirement:** Calculates the total water needed, factoring in the efficiency rate.\n",
    "4. **Water Cost Calculation:** Computes the cost of water usage.\n",
    "5. **Total Cost Computation:** Adds the cost per hectare to the water cost for the final total cost.\n",
    "\n",
    "\n",
    "## **Algorithm Complexity:**\n",
    "- The function has an **O(1)** complexity, also known as constant time complexity. This means the execution time of the function is independent of the size of the input, as it primarily performs basic arithmetic operations and conditional checks.\n"
   ]
  },
  {
   "cell_type": "code",
   "execution_count": 1,
   "metadata": {},
   "outputs": [
    {
     "name": "stdout",
     "output_type": "stream",
     "text": [
      "Total Irrigation Cost: $12.62\n"
     ]
    }
   ],
   "source": [
    "\n",
    "def calculate_irrigation_cost(water_cost_per_1000m3, needed_water_l, cost_per_hectare, efficiency_rate):\n",
    "    \"\"\"\n",
    "    Calculate the total cost of irrigation.\n",
    "    \n",
    "    Parameters:\n",
    "    water_cost_per_1000m3 (float): Cost for 1,000 cubic meters of water in USD (Range: 1.3 to 17.5).\n",
    "    needed_water_l (float): Amount of water needed in liters.\n",
    "    cost_per_hectare (float): Cost per hectare in USD (Range: 12.6 to 65.7).\n",
    "    efficiency_rate (float): Efficiency rate of water usage in percentage (Range: 67 to 95).\n",
    "\n",
    "    Returns:\n",
    "    float: Total cost of irrigation in USD.\n",
    "\n",
    "    Reference:\n",
    "    FAO Irrigation Manual: Module 7, \"Management of irrigation systems\"\n",
    "    URL: https://www.fao.org/3/y5690e/y5690e00.htm\n",
    "    \"\"\"\n",
    "    # Validate the input ranges\n",
    "    if not (1.3 <= water_cost_per_1000m3 <= 17.5):\n",
    "        raise ValueError(\"Water cost per 1,000 m³ must be between 1.3 and 17.5 USD.\")\n",
    "    if not (12.6 <= cost_per_hectare <= 65.7):\n",
    "        raise ValueError(\"Cost per hectare must be between 12.6 and 65.7 USD.\")\n",
    "    if not (67 <= efficiency_rate <= 95):\n",
    "        raise ValueError(\"Efficiency rate must be between 67% and 95%.\")\n",
    "\n",
    "    # Convert needed water from liters to cubic meters (1 m3 = 1000 liters)\n",
    "    needed_water_m3 = needed_water_l / 1000\n",
    "\n",
    "    # Calculate total water required based on efficiency rate\n",
    "    total_water_required_m3 = needed_water_m3 / (efficiency_rate / 100)\n",
    "\n",
    "    # Calculate cost for water usage\n",
    "    water_cost = (water_cost_per_1000m3 / 1000) * total_water_required_m3\n",
    "\n",
    "    # Total cost\n",
    "    total_cost = water_cost + cost_per_hectare\n",
    "    return total_cost\n",
    "\n",
    "# Example usage\n",
    "try:\n",
    "    water_cost_per_1000m3 = 1.3  # Example value within the range\n",
    "    needed_water_l = 8000        # Example: 8000 liters of water needed\n",
    "    cost_per_hectare = 12.6      # Example value within the range\n",
    "    efficiency_rate = 67         # Example value outside the range, should raise an error\n",
    "\n",
    "    total_cost = calculate_irrigation_cost(water_cost_per_1000m3, needed_water_l, cost_per_hectare, efficiency_rate)\n",
    "    print(f\"Total Irrigation Cost: ${total_cost:.2f}\")\n",
    "except ValueError as e:\n",
    "    print(e)\n",
    "\n"
   ]
  }
 ],
 "metadata": {
  "kernelspec": {
   "display_name": "Python 3",
   "language": "python",
   "name": "python3"
  },
  "language_info": {
   "codemirror_mode": {
    "name": "ipython",
    "version": 3
   },
   "file_extension": ".py",
   "mimetype": "text/x-python",
   "name": "python",
   "nbconvert_exporter": "python",
   "pygments_lexer": "ipython3",
   "version": "3.10.8"
  }
 },
 "nbformat": 4,
 "nbformat_minor": 2
}
